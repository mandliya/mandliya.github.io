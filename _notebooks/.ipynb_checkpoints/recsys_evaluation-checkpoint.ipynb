{
 "cells": [
  {
   "cell_type": "markdown",
   "id": "c080a9a9-d75d-4a0a-ae82-9e9c4fed80df",
   "metadata": {},
   "source": [
    "## Recommendation System Evaluation\n",
    "\n",
    "In this post, we will explore various methods of evaluating a recommendation system."
   ]
  },
  {
   "cell_type": "code",
   "execution_count": null,
   "id": "a845163b-e4d4-4d54-9d96-fc1ec3696622",
   "metadata": {},
   "outputs": [],
   "source": []
  }
 ],
 "metadata": {
  "kernelspec": {
   "display_name": "Python 3 (ipykernel)",
   "language": "python",
   "name": "python3"
  },
  "language_info": {
   "codemirror_mode": {
    "name": "ipython",
    "version": 3
   },
   "file_extension": ".py",
   "mimetype": "text/x-python",
   "name": "python",
   "nbconvert_exporter": "python",
   "pygments_lexer": "ipython3",
   "version": "3.11.7"
  }
 },
 "nbformat": 4,
 "nbformat_minor": 5
}
